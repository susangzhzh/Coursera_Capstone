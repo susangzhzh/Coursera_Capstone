{
    "cells": [
        {
            "metadata": {
                "collapsed": true
            },
            "cell_type": "markdown",
            "source": "# Capstone Project - The Battle of Neighborhoods (Week 1)"
        },
        {
            "metadata": {},
            "cell_type": "markdown",
            "source": "# Toronto City Ice Cream Shop Choice"
        },
        {
            "metadata": {},
            "cell_type": "markdown",
            "source": "## Introduction/Business Problem"
        },
        {
            "metadata": {},
            "cell_type": "markdown",
            "source": "Toronto is the capital city of the Canadian province of Ontario. With a recorded population of 2,731,571 in 2016, it is the most populous city in Canada and the fourth most populous city in North America. Toronto is an international centre of business, finance, arts, and culture, and is recognized as one of the most multicultural and cosmopolitan cities in the world."
        },
        {
            "metadata": {},
            "cell_type": "markdown",
            "source": "Ice cream is a refreshing delight for everyone. There are some varieties like gelato or frozen yogurt. The problem that I want to solve is to find the best Ice Cream Shop and check out the possibilities to open an authentic Gelateria in Toronto."
        },
        {
            "metadata": {},
            "cell_type": "markdown",
            "source": "## Description of the data"
        },
        {
            "metadata": {},
            "cell_type": "markdown",
            "source": "I will use the Foursquare API to explore restaurants in Toronto City: data such as the restaurant name, ID, location, category of food (Ice Cream Shop etc.).\n\nTo build the code to scrape the following Wikipedia page, https://en.wikipedia.org/wiki/List_of_postal_codes_of_Canada:_M,\n\nin order to obtain the data that is in the table of postal codes and to transform the data into a pandas dataframe."
        },
        {
            "metadata": {},
            "cell_type": "code",
            "source": "",
            "execution_count": null,
            "outputs": []
        }
    ],
    "metadata": {
        "kernelspec": {
            "name": "python3",
            "display_name": "Python 3.7",
            "language": "python"
        },
        "language_info": {
            "name": "python",
            "version": "3.7.9",
            "mimetype": "text/x-python",
            "codemirror_mode": {
                "name": "ipython",
                "version": 3
            },
            "pygments_lexer": "ipython3",
            "nbconvert_exporter": "python",
            "file_extension": ".py"
        }
    },
    "nbformat": 4,
    "nbformat_minor": 1
}